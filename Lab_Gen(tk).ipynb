{
 "cells": [
  {
   "cell_type": "code",
   "execution_count": 1,
   "metadata": {},
   "outputs": [],
   "source": [
    "import requests\n",
    "from pprint import pprint\n",
    "import json\n",
    "import pandas as pd\n",
    "import tkinter as tk \n",
    "from tkinter import filedialog, Text\n",
    "from tkinter import *\n",
    "import os\n"
   ]
  },
  {
   "cell_type": "code",
   "execution_count": 2,
   "metadata": {},
   "outputs": [],
   "source": [
    "# open text document with list of release ids and read in as string\n",
    "\n",
    "with open('release_ids.txt') as f:\n",
    "    file = f.read()\n",
    "# convert string to list of release ids\n",
    "record_list = file.split()\n",
    "\n",
    "# define url to request release id informtion\n",
    "app_url = 'https://api.discogs.com/releases/'\n",
    "\n",
    "# create a DataFrame to put release ids into\n",
    "master_df = pd.DataFrame()\n",
    "\n",
    "# for each release id in record list\n",
    "for record_id in record_list:\n",
    "    record_id = str(record_id)\n",
    "\n",
    "    # full request url\n",
    "    url = ''.join([app_url, record_id])\n",
    "\n",
    "    # discogs response (json formatted)\n",
    "    resp = requests.get(url)\n",
    "\n",
    "    #  convert response to json object\n",
    "    resp_json = json.loads(resp.text)\n",
    "\n",
    "    # artist\n",
    "    artist = resp_json['artists'][0]['name']\n",
    "\n",
    "    # title\n",
    "    title = resp_json['title']\n",
    "\n",
    "    # label\n",
    "    label = resp_json['labels'][0]['name']\n",
    "\n",
    "    # format\n",
    "    format_type = resp_json['formats'][0]['descriptions'][0]\n",
    "\n",
    "    # year of release\n",
    "    year = str(resp_json['year'])\n",
    "\n",
    "    # country\n",
    "    country = resp_json['country']\n",
    "\n",
    "    # put data in dictionary\n",
    "    record_data = {'record_id':[record_id],\n",
    "                  'artist': [artist],\n",
    "                  'title': [title],\n",
    "                  'label': [label],\n",
    "                  'format': [format_type],\n",
    "                  'year': [year],\n",
    "                  'country': [country]}\n",
    "     \n",
    "    # convert dictionary into DataFrame\n",
    "    df = pd.DataFrame.from_dict(record_data)\n",
    "    #     if the master data fram is empty\n",
    "    if master_df.empty:\n",
    "    #         turn the release id df to the master\n",
    "        master_df = df\n",
    "    \n",
    "    else:\n",
    "    #         if the master df exists, add the relase df to the master df\n",
    "        master_df = pd.concat([master_df, df])\n",
    ""
   ]
  },
  {
   "cell_type": "code",
   "execution_count": 3,
   "metadata": {},
   "outputs": [],
   "source": [
    "#print(master_df)"
   ]
  },
  {
   "cell_type": "code",
   "execution_count": 4,
   "metadata": {},
   "outputs": [],
   "source": [
    "master_df.to_csv('test.csv')\n",
    ""
   ]
  },
  {
   "cell_type": "raw",
   "metadata": {},
   "source": [
    "print(master_df)"
   ]
  },
  {
   "cell_type": "code",
   "execution_count": 5,
   "metadata": {},
   "outputs": [],
   "source": [
    "#master_df['record_id']"
   ]
  },
  {
   "cell_type": "code",
   "execution_count": 12,
   "metadata": {},
   "outputs": [],
   "source": [
    "root = tk.Tk()\n",
    "\n",
    "root.title(\"Label Generator\")\n",
    "\n",
    "#Since I don't know where Paul will be keeping this file on his computer I want him to be able to select relase id's from his computer from a button \n",
    "def open_ids():\n",
    "    filename = filedialog.askopenfilename(initialdir = \"./\", title= \"Select Release ID\", filetypes = ((\"text\", \"*.txt\"),(\"all files\", \"*./\")))\n",
    "    my_label = Label(root, text= filename).pack()\n",
    "    return my_label\n",
    "\n",
    "#not sure how to launch the file after finding it above. Don't love having a second button. Can't access file name as its in another function \n",
    "def launch_ids():\n",
    "     f = open(location)\n",
    "     #f.read()\n",
    "     #print(f.read)\n",
    "\n",
    "    \n",
    "#I would like the third button to run the label generator program and open up the newly adjusted CSV.    \n",
    "def create_csv():\n",
    "    pass\n",
    "    \n",
    "    \n",
    "#os.startfile(text = filename)\n",
    "\n",
    "canvas = tk.Canvas(root, height = 500, width = 600, bg ='#3492eb')\n",
    "canvas.pack()\n",
    "\n",
    "frame = tk.Frame(root, bg = '#F9F7F5')\n",
    "frame.place(relwidth = 0.8, relheight = 0.8, relx = 0.1, rely = 0.1)\n",
    "\n",
    "#filename = PhotoImage(file = \"trash.png\")\n",
    "#image = canvas.create_image(50, 50, anchor = NE, image = filename)\n",
    "\n",
    "findIDS =tk.Button(frame, text=\"Find ID's\", padx=100, pady=50, fg=\"white\", bg=\"#3492eb\", command=open_ids )\n",
    "findIDS.pack(fill = X)\n",
    "\n",
    "openFile =tk.Button(frame, text=\"open IDs\", padx=100, pady=50, fg=\"white\", bg=\"#3492eb\", command=launch_ids)\n",
    "openFile.pack(fill = X)\n",
    "\n",
    "openCSV =tk.Button(frame, text=\"Create CSV\", padx=100, pady=50, fg=\"white\", bg=\"#3492eb\", command=create_csv)\n",
    "openCSV.pack(fill = X)\n",
    "\n",
    "\n",
    "root.mainloop()"
   ]
  }
 ],
 "metadata": {
  "kernelspec": {
   "display_name": "Python 3",
   "language": "python",
   "name": "python3"
  },
  "language_info": {
   "codemirror_mode": {
    "name": "ipython",
    "version": 3
   },
   "file_extension": ".py",
   "mimetype": "text/x-python",
   "name": "python",
   "nbconvert_exporter": "python",
   "pygments_lexer": "ipython3",
   "version": "3.6.9-final"
  }
 },
 "nbformat": 4,
 "nbformat_minor": 2
}